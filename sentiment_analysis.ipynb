{
 "cells": [
  {
   "cell_type": "markdown",
   "metadata": {},
   "source": [
    "# Twitter Sentiment Analysis"
   ]
  },
  {
   "cell_type": "markdown",
   "metadata": {},
   "source": [
    "## Reading data"
   ]
  },
  {
   "cell_type": "code",
   "execution_count": 1,
   "metadata": {},
   "outputs": [],
   "source": [
    "# import library needed\n",
    "import pandas as pd\n",
    "import numpy as np\n",
    "import matplotlib.pyplot as plt\n",
    "import seaborn as sns\n",
    "import string\n",
    "import nltk\n",
    "\n",
    "#nltk.download('stopwords') # first time installation for stopwords from nltk, comment out if done priorly\n",
    "\n",
    "%matplotlib inline"
   ]
  },
  {
   "cell_type": "code",
   "execution_count": 2,
   "metadata": {},
   "outputs": [
    {
     "data": {
      "text/html": [
       "<div>\n",
       "<style scoped>\n",
       "    .dataframe tbody tr th:only-of-type {\n",
       "        vertical-align: middle;\n",
       "    }\n",
       "\n",
       "    .dataframe tbody tr th {\n",
       "        vertical-align: top;\n",
       "    }\n",
       "\n",
       "    .dataframe thead th {\n",
       "        text-align: right;\n",
       "    }\n",
       "</style>\n",
       "<table border=\"1\" class=\"dataframe\">\n",
       "  <thead>\n",
       "    <tr style=\"text-align: right;\">\n",
       "      <th></th>\n",
       "      <th>ItemID</th>\n",
       "      <th>Sentiment</th>\n",
       "      <th>SentimentText</th>\n",
       "    </tr>\n",
       "  </thead>\n",
       "  <tbody>\n",
       "    <tr>\n",
       "      <th>0</th>\n",
       "      <td>1</td>\n",
       "      <td>0</td>\n",
       "      <td>is so sad for my APL frie...</td>\n",
       "    </tr>\n",
       "    <tr>\n",
       "      <th>1</th>\n",
       "      <td>2</td>\n",
       "      <td>0</td>\n",
       "      <td>I missed the New Moon trail...</td>\n",
       "    </tr>\n",
       "    <tr>\n",
       "      <th>2</th>\n",
       "      <td>3</td>\n",
       "      <td>1</td>\n",
       "      <td>omg its already 7:30 :O</td>\n",
       "    </tr>\n",
       "    <tr>\n",
       "      <th>3</th>\n",
       "      <td>4</td>\n",
       "      <td>0</td>\n",
       "      <td>.. Omgaga. Im sooo  im gunna CRy. I'...</td>\n",
       "    </tr>\n",
       "    <tr>\n",
       "      <th>4</th>\n",
       "      <td>5</td>\n",
       "      <td>0</td>\n",
       "      <td>i think mi bf is cheating on me!!!   ...</td>\n",
       "    </tr>\n",
       "  </tbody>\n",
       "</table>\n",
       "</div>"
      ],
      "text/plain": [
       "   ItemID  Sentiment                                      SentimentText\n",
       "0       1          0                       is so sad for my APL frie...\n",
       "1       2          0                     I missed the New Moon trail...\n",
       "2       3          1                            omg its already 7:30 :O\n",
       "3       4          0            .. Omgaga. Im sooo  im gunna CRy. I'...\n",
       "4       5          0           i think mi bf is cheating on me!!!   ..."
      ]
     },
     "execution_count": 2,
     "metadata": {},
     "output_type": "execute_result"
    }
   ],
   "source": [
    "# Read from file\n",
    "twitter_df = pd.read_csv('train.csv', encoding = 'latin-1')\n",
    "twitter_df.head()"
   ]
  },
  {
   "cell_type": "code",
   "execution_count": 3,
   "metadata": {},
   "outputs": [
    {
     "name": "stdout",
     "output_type": "stream",
     "text": [
      "0                         is so sad for my APL frie...\n",
      "1                       I missed the New Moon trail...\n",
      "2                              omg its already 7:30 :O\n",
      "3              .. Omgaga. Im sooo  im gunna CRy. I'...\n",
      "4             i think mi bf is cheating on me!!!   ...\n",
      "5                    or i just worry too much?        \n",
      "6                   Juuuuuuuuuuuuuuuuussssst Chillin!!\n",
      "7           Sunny Again        Work Tomorrow  :-|  ...\n",
      "8          handed in my uniform today . i miss you ...\n",
      "9             hmmmm.... i wonder how she my number @-)\n",
      "Name: SentimentText, dtype: object\n"
     ]
    }
   ],
   "source": [
    "print(twitter_df.SentimentText.head(10))"
   ]
  },
  {
   "cell_type": "code",
   "execution_count": 4,
   "metadata": {},
   "outputs": [
    {
     "data": {
      "text/html": [
       "<div>\n",
       "<style scoped>\n",
       "    .dataframe tbody tr th:only-of-type {\n",
       "        vertical-align: middle;\n",
       "    }\n",
       "\n",
       "    .dataframe tbody tr th {\n",
       "        vertical-align: top;\n",
       "    }\n",
       "\n",
       "    .dataframe thead th {\n",
       "        text-align: right;\n",
       "    }\n",
       "</style>\n",
       "<table border=\"1\" class=\"dataframe\">\n",
       "  <thead>\n",
       "    <tr style=\"text-align: right;\">\n",
       "      <th></th>\n",
       "      <th>ItemID</th>\n",
       "      <th>Sentiment</th>\n",
       "      <th>SentimentText</th>\n",
       "      <th>Length</th>\n",
       "    </tr>\n",
       "  </thead>\n",
       "  <tbody>\n",
       "    <tr>\n",
       "      <th>0</th>\n",
       "      <td>1</td>\n",
       "      <td>0</td>\n",
       "      <td>is so sad for my APL frie...</td>\n",
       "      <td>61</td>\n",
       "    </tr>\n",
       "    <tr>\n",
       "      <th>1</th>\n",
       "      <td>2</td>\n",
       "      <td>0</td>\n",
       "      <td>I missed the New Moon trail...</td>\n",
       "      <td>51</td>\n",
       "    </tr>\n",
       "    <tr>\n",
       "      <th>2</th>\n",
       "      <td>3</td>\n",
       "      <td>1</td>\n",
       "      <td>omg its already 7:30 :O</td>\n",
       "      <td>37</td>\n",
       "    </tr>\n",
       "    <tr>\n",
       "      <th>3</th>\n",
       "      <td>4</td>\n",
       "      <td>0</td>\n",
       "      <td>.. Omgaga. Im sooo  im gunna CRy. I'...</td>\n",
       "      <td>132</td>\n",
       "    </tr>\n",
       "    <tr>\n",
       "      <th>4</th>\n",
       "      <td>5</td>\n",
       "      <td>0</td>\n",
       "      <td>i think mi bf is cheating on me!!!   ...</td>\n",
       "      <td>53</td>\n",
       "    </tr>\n",
       "  </tbody>\n",
       "</table>\n",
       "</div>"
      ],
      "text/plain": [
       "   ItemID  Sentiment                                      SentimentText  \\\n",
       "0       1          0                       is so sad for my APL frie...   \n",
       "1       2          0                     I missed the New Moon trail...   \n",
       "2       3          1                            omg its already 7:30 :O   \n",
       "3       4          0            .. Omgaga. Im sooo  im gunna CRy. I'...   \n",
       "4       5          0           i think mi bf is cheating on me!!!   ...   \n",
       "\n",
       "   Length  \n",
       "0      61  \n",
       "1      51  \n",
       "2      37  \n",
       "3     132  \n",
       "4      53  "
      ]
     },
     "execution_count": 4,
     "metadata": {},
     "output_type": "execute_result"
    }
   ],
   "source": [
    "# Add a new row/attribute of length\n",
    "twitter_df['Length'] = twitter_df['SentimentText'].apply(len)\n",
    "twitter_df.head()"
   ]
  },
  {
   "cell_type": "code",
   "execution_count": 5,
   "metadata": {},
   "outputs": [
    {
     "name": "stdout",
     "output_type": "stream",
     "text": [
      "count    99989.000000\n",
      "mean        77.264309\n",
      "std         36.382639\n",
      "min          6.000000\n",
      "25%         47.000000\n",
      "50%         73.000000\n",
      "75%        108.000000\n",
      "max        949.000000\n",
      "Name: Length, dtype: float64\n"
     ]
    },
    {
     "data": {
      "text/plain": [
       "{'whiskers': [<matplotlib.lines.Line2D at 0x2925eddf780>,\n",
       "  <matplotlib.lines.Line2D at 0x2925eddfac8>],\n",
       " 'caps': [<matplotlib.lines.Line2D at 0x2925eddfe10>,\n",
       "  <matplotlib.lines.Line2D at 0x2925eddfd68>],\n",
       " 'boxes': [<matplotlib.lines.Line2D at 0x2925eddf358>],\n",
       " 'medians': [<matplotlib.lines.Line2D at 0x2925edf54e0>],\n",
       " 'fliers': [<matplotlib.lines.Line2D at 0x2925edf5828>],\n",
       " 'means': []}"
      ]
     },
     "execution_count": 5,
     "metadata": {},
     "output_type": "execute_result"
    },
    {
     "data": {
      "image/png": "[encoded data removed]",
      "text/plain": [
       "<Figure size 432x288 with 1 Axes>"
      ]
     },
     "metadata": {
      "needs_background": "light"
     },
     "output_type": "display_data"
    }
   ],
   "source": [
    "print(twitter_df['Length'].describe())\n",
    "plt.boxplot(twitter_df.Length)"
   ]
  },
  {
   "cell_type": "markdown",
   "metadata": {},
   "source": [
    "## Data Cleaning"
   ]
  },
  {
   "cell_type": "code",
   "execution_count": 6,
   "metadata": {},
   "outputs": [
    {
     "data": {
      "text/plain": [
       "{'whiskers': [<matplotlib.lines.Line2D at 0x2925ee6ef28>,\n",
       "  <matplotlib.lines.Line2D at 0x2925ee3c2b0>],\n",
       " 'caps': [<matplotlib.lines.Line2D at 0x2925ee3c5f8>,\n",
       "  <matplotlib.lines.Line2D at 0x2925ee3c940>],\n",
       " 'boxes': [<matplotlib.lines.Line2D at 0x2925ee6eb38>],\n",
       " 'medians': [<matplotlib.lines.Line2D at 0x2925ee3cc88>],\n",
       " 'fliers': [<matplotlib.lines.Line2D at 0x2925ee3cfd0>],\n",
       " 'means': []}"
      ]
     },
     "execution_count": 6,
     "metadata": {},
     "output_type": "execute_result"
    },
    {
     "data": {
      "image/png": "[encoded data removed]",
      "text/plain": [
       "<Figure size 432x288 with 1 Axes>"
      ]
     },
     "metadata": {
      "needs_background": "light"
     },
     "output_type": "display_data"
    }
   ],
   "source": [
    "# Drop any invalid tweet with length more that 280\n",
    "invalidTweet = twitter_df[ twitter_df.Length > 280].index # get the index of invalid tweet with length more than 280\n",
    "twitter_df = twitter_df.drop(invalidTweet)\n",
    "twitter_df.reset_index(drop=True,inplace=True) # Reset index\n",
    "plt.boxplot(twitter_df.Length)"
   ]
  },
  {
   "cell_type": "code",
   "execution_count": 7,
   "metadata": {},
   "outputs": [],
   "source": [
    "# Define data cleaning function\n",
    "import re\n",
    "from bs4 import BeautifulSoup\n",
    "from nltk.tokenize import WordPunctTokenizer\n",
    "\n",
    "tok = WordPunctTokenizer()\n",
    "pat1 = r'@[A-Za-z0-9]+'\n",
    "pat2 = r'https?://[A-Za-z0-9./]+'\n",
    "combined_pat = r'|'.join((pat1, pat2))\n",
    "def tweet_cleaner(text):\n",
    "    soup = BeautifulSoup(text, 'lxml')\n",
    "    souped = soup.get_text()\n",
    "    stripped = re.sub(combined_pat, '', souped)\n",
    "    try:\n",
    "        clean = stripped.decode(\"utf-8-sig\").replace(u\"\\ufffd\", \"?\")\n",
    "    except:\n",
    "        clean = stripped\n",
    "    letters_only = re.sub(\"[^a-zA-Z]\", \" \", clean)\n",
    "    lower_case = letters_only.lower()\n",
    "    # During the letters_only process two lines above, it has created unnecessay white spaces,\n",
    "    # I will tokenize and join together to remove unneccessary white spaces\n",
    "    words = tok.tokenize(lower_case)\n",
    "    return (\" \".join(words)).strip()"
   ]
  },
  {
   "cell_type": "code",
   "execution_count": 8,
   "metadata": {},
   "outputs": [
    {
     "name": "stderr",
     "output_type": "stream",
     "text": [
      "C:\\Users\\Fats\\Anaconda3\\lib\\site-packages\\bs4\\__init__.py:273: UserWarning: \"b' i just received my G8 viola exam.. and its... well... .. disappointing.. :\\\\..'\" looks like a filename, not markup. You should probably open this file and pass the filehandle into Beautiful Soup.\n",
      "  ' Beautiful Soup.' % markup)\n"
     ]
    },
    {
     "name": "stdout",
     "output_type": "stream",
     "text": [
      "10000 processed\n",
      "10000 processed\n",
      "10000 processed\n",
      "10000 processed\n",
      "10000 processed\n",
      "10000 processed\n",
      "10000 processed\n",
      "10000 processed\n",
      "10000 processed\n",
      "Process completed\n"
     ]
    }
   ],
   "source": [
    "clean_tweet_texts = []\n",
    "for i in range(0,len(twitter_df)):\n",
    "    if( (i+1) % 10000 == 0):\n",
    "        print(\"10000 processed\")\n",
    "    clean_tweet_texts.append(tweet_cleaner(twitter_df['SentimentText'][i]))\n",
    "print(\"Process completed\")"
   ]
  },
  {
   "cell_type": "code",
   "execution_count": 9,
   "metadata": {},
   "outputs": [],
   "source": [
    "# Save cleaned data into csv\n",
    "clean_df = pd.DataFrame(clean_tweet_texts, columns=['text'])\n",
    "clean_df['target'] = twitter_df.Sentiment\n",
    "clean_df.to_csv('clean_tweet.csv')"
   ]
  },
  {
   "cell_type": "markdown",
   "metadata": {},
   "source": [
    "## Text pre-processing"
   ]
  },
  {
   "cell_type": "code",
   "execution_count": 10,
   "metadata": {},
   "outputs": [
    {
     "data": {
      "text/html": [
       "<div>\n",
       "<style scoped>\n",
       "    .dataframe tbody tr th:only-of-type {\n",
       "        vertical-align: middle;\n",
       "    }\n",
       "\n",
       "    .dataframe tbody tr th {\n",
       "        vertical-align: top;\n",
       "    }\n",
       "\n",
       "    .dataframe thead th {\n",
       "        text-align: right;\n",
       "    }\n",
       "</style>\n",
       "<table border=\"1\" class=\"dataframe\">\n",
       "  <thead>\n",
       "    <tr style=\"text-align: right;\">\n",
       "      <th></th>\n",
       "      <th>text</th>\n",
       "      <th>target</th>\n",
       "    </tr>\n",
       "  </thead>\n",
       "  <tbody>\n",
       "    <tr>\n",
       "      <th>0</th>\n",
       "      <td>is so sad for my apl friend</td>\n",
       "      <td>0</td>\n",
       "    </tr>\n",
       "    <tr>\n",
       "      <th>1</th>\n",
       "      <td>i missed the new moon trailer</td>\n",
       "      <td>0</td>\n",
       "    </tr>\n",
       "    <tr>\n",
       "      <th>2</th>\n",
       "      <td>omg its already o</td>\n",
       "      <td>1</td>\n",
       "    </tr>\n",
       "    <tr>\n",
       "      <th>3</th>\n",
       "      <td>omgaga im sooo im gunna cry i ve been at this ...</td>\n",
       "      <td>0</td>\n",
       "    </tr>\n",
       "    <tr>\n",
       "      <th>4</th>\n",
       "      <td>i think mi bf is cheating on me t t</td>\n",
       "      <td>0</td>\n",
       "    </tr>\n",
       "  </tbody>\n",
       "</table>\n",
       "</div>"
      ],
      "text/plain": [
       "                                                text  target\n",
       "0                        is so sad for my apl friend       0\n",
       "1                      i missed the new moon trailer       0\n",
       "2                                  omg its already o       1\n",
       "3  omgaga im sooo im gunna cry i ve been at this ...       0\n",
       "4                i think mi bf is cheating on me t t       0"
      ]
     },
     "execution_count": 10,
     "metadata": {},
     "output_type": "execute_result"
    }
   ],
   "source": [
    "cleanTwitter_df = pd.read_csv('clean_tweet.csv',index_col=0)\n",
    "cleanTwitter_df.dropna(inplace=True)\n",
    "cleanTwitter_df.reset_index(drop=True,inplace=True) # Reset index\n",
    "cleanTwitter_df.head(5)"
   ]
  },
  {
   "cell_type": "code",
   "execution_count": 11,
   "metadata": {},
   "outputs": [],
   "source": [
    "import csv\n",
    "def translator(text):\n",
    "    text = text.split(\" \")\n",
    "    j = 0\n",
    "    for word in text:\n",
    "        with open(\"translate.txt\",\"r\") as translateFile:\n",
    "            # reading file as CSV with delimter \"=\", abbreviation stored in row[0], phrase in row[1]\n",
    "            dataFromFile = csv.reader(translateFile, delimiter= \"=\")\n",
    "            for row in dataFromFile:\n",
    "                # check if selected word matches short forms[LHS] in text file\n",
    "                if word.upper() == row[0]:\n",
    "                    # if match, replace with phrase[RHS]\n",
    "                    text[j] = row[1].lower()\n",
    "            translateFile.close();\n",
    "        j = j + 1\n",
    "\n",
    "    return ' '.join(text)"
   ]
  },
  {
   "cell_type": "code",
   "execution_count": 12,
   "metadata": {},
   "outputs": [],
   "source": [
    "# nopunc.split() will be like ['Sample', 'message', 'is' , 'hi']\n",
    "def text_process(mess):\n",
    "    # Check characters to see if they are in punctuation\n",
    "    # if char is not in string.punctuation(a library) then nopunc = that char\n",
    "    nopunc = [char for char in mess if char not in string.punctuation]\n",
    "\n",
    "    # Join the characters again to form the string.\n",
    "    nopunc = ''.join(nopunc)\n",
    "\n",
    "    #Convert slangs or short form\n",
    "    noshortform = translator(nopunc) # call the translator function\n",
    "        \n",
    "    # Now just remove any stopwords\n",
    "    return [word for word in noshortform.split() if word.lower() not in stopwords.words('english')]"
   ]
  },
  {
   "cell_type": "code",
   "execution_count": 13,
   "metadata": {},
   "outputs": [
    {
     "name": "stdout",
     "output_type": "stream",
     "text": [
      "0                          is so sad for my apl friend\n",
      "1                        i missed the new moon trailer\n",
      "2                                    omg its already o\n",
      "3    omgaga im sooo im gunna cry i ve been at this ...\n",
      "4                  i think mi bf is cheating on me t t\n",
      "5                             or i just worry too much\n",
      "6                     juuuuuuuuuuuuuuuuussssst chillin\n",
      "7                 sunny again work tomorrow tv tonight\n",
      "8        handed in my uniform today i miss you already\n",
      "9                     hmmmm i wonder how she my number\n",
      "Name: text, dtype: object\n",
      "\n",
      "\n",
      "---------------------compare---------------\n",
      "\n",
      "\n",
      "0                                   [sad, apl, friend]\n",
      "1                         [missed, new, moon, trailer]\n",
      "2                                   [oh, god, already]\n",
      "3    [omgaga, sooo, gunna, cry, dentist, since, sup...\n",
      "4                                [think, bf, cheating]\n",
      "5                                        [worry, much]\n",
      "6                  [juuuuuuuuuuuuuuuuussssst, chillin]\n",
      "7                 [sunny, work, tomorrow, tv, tonight]\n",
      "8              [handed, uniform, today, miss, already]\n",
      "9                              [hmmmm, wonder, number]\n",
      "Name: text, dtype: object\n"
     ]
    }
   ],
   "source": [
    "# For visualization, the first 5 is now tokenized with punctuation and stopwords removed\n",
    "from nltk.corpus import stopwords\n",
    "print(cleanTwitter_df['text'].head(10))\n",
    "print(\"\\n\\n---------------------compare---------------\\n\\n\")\n",
    "print(cleanTwitter_df['text'].head(10).apply(text_process))"
   ]
  },
  {
   "cell_type": "markdown",
   "metadata": {},
   "source": [
    "## Vectorization"
   ]
  },
  {
   "cell_type": "code",
   "execution_count": 14,
   "metadata": {},
   "outputs": [],
   "source": [
    "from sklearn.feature_extraction.text import CountVectorizer\n",
    "\n",
    "#bow = bag of words\n",
    "bow_transformer = CountVectorizer(analyzer=text_process).fit(cleanTwitter_df['text'])"
   ]
  },
  {
   "cell_type": "code",
   "execution_count": 15,
   "metadata": {
    "scrolled": true
   },
   "outputs": [
    {
     "name": "stdout",
     "output_type": "stream",
     "text": [
      "i missed the new moon trailer\n",
      "\n",
      "0                                   [sad, apl, friend]\n",
      "1                         [missed, new, moon, trailer]\n",
      "2                                   [oh, god, already]\n",
      "3    [omgaga, sooo, gunna, cry, dentist, since, sup...\n",
      "4                                [think, bf, cheating]\n",
      "Name: text, dtype: object\n",
      "  (0, 29320)\t1\n",
      "  (0, 29770)\t1\n",
      "  (0, 31070)\t1\n",
      "  (0, 46570)\t1\n"
     ]
    }
   ],
   "source": [
    "# for visualiztion of count vector\n",
    "message2 = cleanTwitter_df['text'][1]\n",
    "print(message2 + \"\\n\")\n",
    "print(cleanTwitter_df['text'].head(5).apply(text_process))\n",
    "\n",
    "bow4 = bow_transformer.transform([message2])\n",
    "print(bow4)"
   ]
  },
  {
   "cell_type": "code",
   "execution_count": 16,
   "metadata": {},
   "outputs": [],
   "source": [
    "text_bow = bow_transformer.transform(cleanTwitter_df['text'])"
   ]
  },
  {
   "cell_type": "code",
   "execution_count": 17,
   "metadata": {},
   "outputs": [],
   "source": [
    "from sklearn.feature_extraction.text import TfidfTransformer\n",
    "tfidf_transformer = TfidfTransformer().fit(text_bow)\n",
    "# transform entire bag of words into TF-IDF\n",
    "text_tfidf = tfidf_transformer.transform(text_bow)"
   ]
  },
  {
   "cell_type": "markdown",
   "metadata": {},
   "source": [
    "## Naive Bayes"
   ]
  },
  {
   "cell_type": "code",
   "execution_count": 18,
   "metadata": {},
   "outputs": [],
   "source": [
    "from sklearn.naive_bayes import MultinomialNB\n",
    "sentiment_detect_model = MultinomialNB().fit(text_tfidf,cleanTwitter_df['target'])"
   ]
  },
  {
   "cell_type": "markdown",
   "metadata": {},
   "source": [
    "## Evaluate Model"
   ]
  },
  {
   "cell_type": "code",
   "execution_count": null,
   "metadata": {},
   "outputs": [
    {
     "name": "stdout",
     "output_type": "stream",
     "text": [
      "[0 1 0 ... 1 1 1]\n"
     ]
    }
   ],
   "source": [
    "all_predictions = sentiment_detect_model.predict(text_tfidf)\n",
    "print(all_predictions)"
   ]
  },
  {
   "cell_type": "code",
   "execution_count": null,
   "metadata": {},
   "outputs": [
    {
     "name": "stdout",
     "output_type": "stream",
     "text": [
      "              precision    recall  f1-score   support\n",
      "\n",
      "           0       0.86      0.70      0.77     43364\n",
      "           1       0.80      0.91      0.85     56247\n",
      "\n",
      "   micro avg       0.82      0.82      0.82     99611\n",
      "   macro avg       0.83      0.81      0.81     99611\n",
      "weighted avg       0.83      0.82      0.82     99611\n",
      "\n"
     ]
    }
   ],
   "source": [
    "#Classification report\n",
    "from sklearn.metrics import classification_report\n",
    "print(classification_report(cleanTwitter_df['target'], all_predictions))"
   ]
  },
  {
   "cell_type": "markdown",
   "metadata": {},
   "source": [
    "## Data pipeline"
   ]
  },
  {
   "cell_type": "code",
   "execution_count": null,
   "metadata": {},
   "outputs": [],
   "source": [
    "from sklearn.pipeline import Pipeline\n",
    "\n",
    "pipeline = Pipeline([\n",
    "    ('bow', CountVectorizer(analyzer=text_process)),  # strings to token integer counts\n",
    "    ('tfidf', TfidfTransformer()),  # integer counts to weighted TF-IDF scores\n",
    "    ('classifier', MultinomialNB()),  # train on TF-IDF vectors w/ Naive Bayes classifier\n",
    "])"
   ]
  },
  {
   "cell_type": "code",
   "execution_count": null,
   "metadata": {},
   "outputs": [],
   "source": [
    "import sklearn\n",
    "from sklearn.model_selection import train_test_split\n",
    "\n",
    "Text_train, Text_test , Sentiment_train, Sentiment_test = \\\n",
    "train_test_split(cleanTwitter_df['text'], cleanTwitter_df['target'] , test_size = 0.2)"
   ]
  },
  {
   "cell_type": "code",
   "execution_count": null,
   "metadata": {},
   "outputs": [
    {
     "data": {
      "text/plain": [
       "Pipeline(memory=None,\n",
       "     steps=[('bow', CountVectorizer(analyzer=<function text_process at 0x0000029263C21BF8>,\n",
       "        binary=False, decode_error='strict', dtype=<class 'numpy.int64'>,\n",
       "        encoding='utf-8', input='content', lowercase=True, max_df=1.0,\n",
       "        max_features=None, min_df=1, ngram_range=(1, 1), preprocesso...f=False, use_idf=True)), ('classifier', MultinomialNB(alpha=1.0, class_prior=None, fit_prior=True))])"
      ]
     },
     "execution_count": 23,
     "metadata": {},
     "output_type": "execute_result"
    }
   ],
   "source": [
    "pipeline.fit(Text_train,Sentiment_train)"
   ]
  },
  {
   "cell_type": "code",
   "execution_count": null,
   "metadata": {},
   "outputs": [],
   "source": [
    "predictions = pipeline.predict(Text_test)"
   ]
  },
  {
   "cell_type": "markdown",
   "metadata": {},
   "source": [
    "### Train Test split validation"
   ]
  },
  {
   "cell_type": "code",
   "execution_count": null,
   "metadata": {},
   "outputs": [
    {
     "name": "stdout",
     "output_type": "stream",
     "text": [
      "              precision    recall  f1-score   support\n",
      "\n",
      "           0       0.57      0.75      0.65      6549\n",
      "           1       0.85      0.72      0.78     13374\n",
      "\n",
      "   micro avg       0.73      0.73      0.73     19923\n",
      "   macro avg       0.71      0.74      0.71     19923\n",
      "weighted avg       0.76      0.73      0.74     19923\n",
      "\n"
     ]
    }
   ],
   "source": [
    "print( classification_report(predictions,Sentiment_test))"
   ]
  },
  {
   "cell_type": "markdown",
   "metadata": {},
   "source": [
    "### K-Fold Cross validation"
   ]
  },
  {
   "cell_type": "code",
   "execution_count": null,
   "metadata": {},
   "outputs": [
    {
     "name": "stdout",
     "output_type": "stream",
     "text": [
      "Iteration  1\n",
      "              precision    recall  f1-score   support\n",
      "\n",
      "           0       0.57      0.77      0.66      3191\n",
      "           1       0.87      0.73      0.79      6771\n",
      "\n",
      "   micro avg       0.74      0.74      0.74      9962\n",
      "   macro avg       0.72      0.75      0.72      9962\n",
      "weighted avg       0.77      0.74      0.75      9962\n",
      "\n",
      "--------------------------------\n",
      "Iteration  2\n",
      "              precision    recall  f1-score   support\n",
      "\n",
      "           0       0.57      0.76      0.65      3304\n",
      "           1       0.85      0.71      0.78      6657\n",
      "\n",
      "   micro avg       0.73      0.73      0.73      9961\n",
      "   macro avg       0.71      0.73      0.71      9961\n",
      "weighted avg       0.76      0.73      0.73      9961\n",
      "\n",
      "--------------------------------\n",
      "Iteration  3\n",
      "              precision    recall  f1-score   support\n",
      "\n",
      "           0       0.57      0.76      0.65      3202\n",
      "           1       0.87      0.72      0.79      6759\n",
      "\n",
      "   micro avg       0.74      0.74      0.74      9961\n",
      "   macro avg       0.72      0.74      0.72      9961\n",
      "weighted avg       0.77      0.74      0.74      9961\n",
      "\n",
      "--------------------------------\n",
      "Iteration  4\n",
      "              precision    recall  f1-score   support\n",
      "\n",
      "           0       0.58      0.76      0.66      3309\n",
      "           1       0.86      0.72      0.79      6652\n",
      "\n",
      "   micro avg       0.74      0.74      0.74      9961\n",
      "   macro avg       0.72      0.74      0.72      9961\n",
      "weighted avg       0.77      0.74      0.74      9961\n",
      "\n",
      "--------------------------------\n",
      "Iteration  5\n",
      "              precision    recall  f1-score   support\n",
      "\n",
      "           0       0.58      0.76      0.66      3282\n",
      "           1       0.86      0.73      0.79      6679\n",
      "\n",
      "   micro avg       0.74      0.74      0.74      9961\n",
      "   macro avg       0.72      0.74      0.72      9961\n",
      "weighted avg       0.77      0.74      0.74      9961\n",
      "\n",
      "--------------------------------\n",
      "Iteration  6\n",
      "              precision    recall  f1-score   support\n",
      "\n",
      "           0       0.56      0.75      0.64      3259\n",
      "           1       0.85      0.71      0.78      6702\n",
      "\n",
      "   micro avg       0.72      0.72      0.72      9961\n",
      "   macro avg       0.71      0.73      0.71      9961\n",
      "weighted avg       0.76      0.72      0.73      9961\n",
      "\n",
      "--------------------------------\n",
      "Iteration  7\n",
      "              precision    recall  f1-score   support\n",
      "\n",
      "           0       0.58      0.76      0.66      3292\n",
      "           1       0.86      0.73      0.79      6669\n",
      "\n",
      "   micro avg       0.74      0.74      0.74      9961\n",
      "   macro avg       0.72      0.74      0.72      9961\n",
      "weighted avg       0.77      0.74      0.75      9961\n",
      "\n",
      "--------------------------------\n",
      "Iteration  8\n",
      "              precision    recall  f1-score   support\n",
      "\n",
      "           0       0.58      0.77      0.66      3280\n",
      "           1       0.86      0.72      0.79      6681\n",
      "\n",
      "   micro avg       0.74      0.74      0.74      9961\n",
      "   macro avg       0.72      0.74      0.72      9961\n",
      "weighted avg       0.77      0.74      0.74      9961\n",
      "\n",
      "--------------------------------\n",
      "Iteration  9\n",
      "              precision    recall  f1-score   support\n",
      "\n",
      "           0       0.58      0.75      0.66      3312\n",
      "           1       0.86      0.73      0.79      6649\n",
      "\n",
      "   micro avg       0.74      0.74      0.74      9961\n",
      "   macro avg       0.72      0.74      0.72      9961\n",
      "weighted avg       0.76      0.74      0.74      9961\n",
      "\n",
      "--------------------------------\n"
     ]
    }
   ],
   "source": [
    "from sklearn.model_selection import KFold\n",
    "kf = KFold(n_splits = 10, shuffle = True)\n",
    "\n",
    "# X = Text (message \"Hi how are you\")\n",
    "# Y = target sentiment 0,1\n",
    "\n",
    "iteration = 1\n",
    "for train_index ,test_index in kf.split(cleanTwitter_df):\n",
    "    X_train, X_test, Y_train, Y_test = cleanTwitter_df.text[train_index], cleanTwitter_df.text[test_index], \\\n",
    "    cleanTwitter_df.target[train_index],cleanTwitter_df.target[test_index]\n",
    "    pipeline.fit(X_train,Y_train) # use training set \n",
    "    \n",
    "    predictions = pipeline.predict(X_test)\n",
    "    print(\"Iteration \", iteration )\n",
    "    print(classification_report(predictions,Y_test))\n",
    "    print(\"--------------------------------\" )\n",
    "    \n",
    "    iteration = iteration +1"
   ]
  },
  {
   "cell_type": "code",
   "execution_count": null,
   "metadata": {},
   "outputs": [],
   "source": []
  }
 ],
 "metadata": {
  "kernelspec": {
   "display_name": "Python 3",
   "language": "python",
   "name": "python3"
  },
  "language_info": {
   "codemirror_mode": {
    "name": "ipython",
    "version": 3
   },
   "file_extension": ".py",
   "mimetype": "text/x-python",
   "name": "python",
   "nbconvert_exporter": "python",
   "pygments_lexer": "ipython3",
   "version": "3.7.1"
  }
 },
 "nbformat": 4,
 "nbformat_minor": 2
}
